{
 "cells": [
  {
   "cell_type": "code",
   "execution_count": 1,
   "metadata": {
    "collapsed": true
   },
   "outputs": [],
   "source": [
    "import numpy as np\n",
    "import pandas as pd\n"
   ]
  },
  {
   "cell_type": "code",
   "execution_count": 54,
   "metadata": {},
   "outputs": [
    {
     "data": {
      "text/plain": [
       "numpy.ndarray"
      ]
     },
     "execution_count": 54,
     "metadata": {},
     "output_type": "execute_result"
    }
   ],
   "source": [
    "# Raw data\n",
    "features = pd.read_csv('Data/data.csv')\n",
    "labels = pd.read_csv('Data/target.csv')\n",
    "# Even spread of boxing vs non boxing (1-2)\n",
    "#features = pd.read_csv('Data/data_even.csv')\n",
    "#labels = pd.read_csv('Data/target_even.csv')\n",
    "feature_names = pd.read_csv('Data/feature_names.csv')\n",
    "label_names = ['Boxing','Not Boxing']\n",
    "\n",
    "labels = np.ravel(labels.as_matrix(columns=None))\n",
    "feature_names = np.ravel(feature_names.as_matrix(columns=None))\n",
    "features = features.as_matrix(columns=None)\n",
    "type(features)"
   ]
  },
  {
   "cell_type": "code",
   "execution_count": 59,
   "metadata": {},
   "outputs": [
    {
     "name": "stdout",
     "output_type": "stream",
     "text": [
      "(332261,)\n",
      "(51,)\n",
      "(332261, 51)\n"
     ]
    },
    {
     "data": {
      "text/plain": [
       "array(['Pelvis_x', 'R_Hip_x', 'R_Leg_x', 'R_Foot_x', 'L_Hip_x', 'L_Leg_x',\n",
       "       'L_Foot_x', 'Belly_x', 'Thorax_x', 'Neck_x', 'Head_x',\n",
       "       'L_Shoulder_x', 'L_Arm_x', 'L_Hand_x', 'R_Shoulder_x', 'R_Arm_x',\n",
       "       'R_Hand_x', 'Pelvis_y', 'R_Hip_y', 'R_Leg_y', 'R_Foot_y',\n",
       "       'L_Hip_y', 'L_Leg_y', 'L_Foot_y', 'Belly_y', 'Thorax_y', 'Neck_y',\n",
       "       'Head_y', 'L_Shoulder_y', 'L_Arm_y', 'L_Hand_y', 'R_Shoulder_y',\n",
       "       'R_Arm_y', 'R_Hand_y', 'Pelvis_z', 'R_Hip_z', 'R_Leg_z',\n",
       "       'R_Foot_z', 'L_Hip_z', 'L_Leg_z', 'L_Foot_z', 'Belly_z',\n",
       "       'Thorax_z', 'Neck_z', 'Head_z', 'L_Shoulder_z', 'L_Arm_z',\n",
       "       'L_Hand_z', 'R_Shoulder_z', 'R_Arm_z', 'R_Hand_z'], dtype=object)"
      ]
     },
     "execution_count": 59,
     "metadata": {},
     "output_type": "execute_result"
    }
   ],
   "source": [
    "print(labels.shape)\n",
    "print(feature_names.shape)\n",
    "print(features.shape)\n",
    "feature_names"
   ]
  },
  {
   "cell_type": "code",
   "execution_count": 56,
   "metadata": {},
   "outputs": [
    {
     "name": "stdout",
     "output_type": "stream",
     "text": [
      "['Boxing', 'Not Boxing']\n",
      "0\n",
      "Pelvis_x\n",
      "[ 6.6427e+02  6.6682e+02  6.9485e+02  1.1072e+03  6.6173e+02  6.9584e+02\n",
      "  1.1202e+03  5.1934e+02  3.5262e+02  2.9039e+02  2.5337e+02  3.3583e+02\n",
      "  2.4168e+02  1.5399e+02  3.8646e+02  3.4357e+02  3.2557e+02 -1.3538e+05\n",
      " -1.3540e+05 -1.3538e+05 -1.3517e+05 -1.3536e+05 -1.3536e+05 -1.3525e+05\n",
      " -1.3543e+05 -1.3547e+05 -1.3549e+05 -1.3549e+05 -1.3545e+05 -1.3554e+05\n",
      " -1.3543e+05 -1.3549e+05 -1.3554e+05 -1.3567e+05  1.5274e+02  1.6895e+02\n",
      "  5.9839e+02  8.9412e+02  1.3652e+02  5.3829e+02  8.7406e+02 -1.2664e+02\n",
      " -4.3981e+02 -3.7290e+02 -4.1330e+02 -4.3901e+02 -5.5968e+02 -5.9285e+02\n",
      " -4.0042e+02 -2.4982e+02 -3.0062e+02]\n"
     ]
    }
   ],
   "source": [
    "# Look at our data\n",
    "print(label_names)\n",
    "print(labels[0])\n",
    "print(feature_names[0])\n",
    "print(features[0])"
   ]
  },
  {
   "cell_type": "code",
   "execution_count": 57,
   "metadata": {
    "collapsed": true
   },
   "outputs": [],
   "source": [
    "from sklearn.model_selection import train_test_split\n",
    "\n",
    "# Split our data\n",
    "train, test, train_labels, test_labels = train_test_split(features,\n",
    "                                                          labels,\n",
    "                                                          test_size=0.15)"
   ]
  },
  {
   "cell_type": "code",
   "execution_count": 58,
   "metadata": {},
   "outputs": [
    {
     "data": {
      "text/plain": [
       "MLPClassifier(activation='relu', alpha=1e-05, batch_size='auto', beta_1=0.9,\n",
       "       beta_2=0.999, early_stopping=False, epsilon=1e-08,\n",
       "       hidden_layer_sizes=(5, 2), learning_rate='constant',\n",
       "       learning_rate_init=0.001, max_iter=200, momentum=0.9,\n",
       "       nesterovs_momentum=True, power_t=0.5, random_state=1, shuffle=True,\n",
       "       solver='lbfgs', tol=0.0001, validation_fraction=0.1, verbose=False,\n",
       "       warm_start=False)"
      ]
     },
     "execution_count": 58,
     "metadata": {},
     "output_type": "execute_result"
    }
   ],
   "source": [
    "from sklearn.neural_network import MLPClassifier\n",
    "clf = MLPClassifier(solver='lbfgs', alpha=1e-5, hidden_layer_sizes=(5, 2), random_state=1)\n",
    "clf.fit(train, train_labels)"
   ]
  },
  {
   "cell_type": "code",
   "execution_count": 60,
   "metadata": {},
   "outputs": [],
   "source": [
    "# Make predictions\n",
    "preds = clf.predict(test)"
   ]
  },
  {
   "cell_type": "code",
   "execution_count": 61,
   "metadata": {},
   "outputs": [
    {
     "name": "stdout",
     "output_type": "stream",
     "text": [
      "(11111,)\n",
      "(11111, 51)\n"
     ]
    }
   ],
   "source": [
    "np.sum(test_labels)/test_labels.shape[0]\n",
    "test_boxing = test_labels[np.where(test_labels==1)]\n",
    "features_boxing = features[np.where(test_labels==1)][:]\n",
    "print(test_boxing.shape)\n",
    "print(features_boxing.shape)"
   ]
  },
  {
   "cell_type": "code",
   "execution_count": 62,
   "metadata": {},
   "outputs": [
    {
     "name": "stdout",
     "output_type": "stream",
     "text": [
      "Accuracy = 0.5123394863563403\n",
      "Precision = 0.2525877587758776\n",
      "Recall = 0.6061560615606156\n",
      "f1 score = 0.3565850430178689\n"
     ]
    }
   ],
   "source": [
    "from sklearn.metrics import accuracy_score\n",
    "from sklearn.metrics import precision_score\n",
    "from sklearn.metrics import recall_score\n",
    "from sklearn.metrics import f1_score\n",
    "\n",
    "# Evaluate accuracy\n",
    "print('Accuracy = {}'.format(accuracy_score(test_labels, preds)))\n",
    "# Evaluate precision\n",
    "print('Precision = {}'.format(precision_score(test_labels, preds)))\n",
    "# Evaluate recall\n",
    "print('Recall = {}'.format(recall_score(test_labels, preds)))\n",
    "# Evaluate f1\n",
    "print('f1 score = {}'.format(f1_score(test_labels, preds)))"
   ]
  },
  {
   "cell_type": "code",
   "execution_count": 63,
   "metadata": {},
   "outputs": [
    {
     "name": "stdout",
     "output_type": "stream",
     "text": [
      "[[18800 19929]\n",
      " [ 4376  6735]]\n"
     ]
    }
   ],
   "source": [
    "from sklearn.metrics import classification_report,confusion_matrix\n",
    "print(confusion_matrix(test_labels,preds))"
   ]
  },
  {
   "cell_type": "code",
   "execution_count": 64,
   "metadata": {},
   "outputs": [
    {
     "name": "stdout",
     "output_type": "stream",
     "text": [
      "             precision    recall  f1-score   support\n",
      "\n",
      "          0       0.81      0.49      0.61     38729\n",
      "          1       0.25      0.61      0.36     11111\n",
      "\n",
      "avg / total       0.69      0.51      0.55     49840\n",
      "\n"
     ]
    }
   ],
   "source": [
    "print(classification_report(test_labels,preds))"
   ]
  },
  {
   "cell_type": "code",
   "execution_count": 65,
   "metadata": {},
   "outputs": [
    {
     "data": {
      "text/plain": [
       "<matplotlib.legend.Legend at 0x1920af94a58>"
      ]
     },
     "execution_count": 65,
     "metadata": {},
     "output_type": "execute_result"
    },
    {
     "data": {
      "image/png": "[encoded data removed]",
      "text/plain": [
       "<matplotlib.figure.Figure at 0x1920b380358>"
      ]
     },
     "metadata": {},
     "output_type": "display_data"
    }
   ],
   "source": [
    "#plot Learning curve\n",
    "import matplotlib.pyplot as plt\n",
    "%matplotlib inline\n",
    "from sklearn.model_selection import learning_curve\n",
    "plt.figure()\n",
    "plt.title('Learning')\n",
    "ylim = None\n",
    "if ylim is not None:\n",
    "    plt.ylim(*ylim)\n",
    "plt.xlabel(\"Training examples\")\n",
    "plt.ylabel(\"Score\")\n",
    "train_sizes, train_scores, test_scores = learning_curve(\n",
    "    clf, train, train_labels, cv=None, n_jobs=1, train_sizes=np.linspace(0.1, 1.0, 5))\n",
    "train_scores_mean = np.mean(train_scores, axis=1)\n",
    "train_scores_std = np.std(train_scores, axis=1)\n",
    "test_scores_mean = np.mean(test_scores, axis=1)\n",
    "test_scores_std = np.std(test_scores, axis=1)\n",
    "plt.grid()\n",
    "plt.fill_between(train_sizes, train_scores_mean - train_scores_std,\n",
    "                     train_scores_mean + train_scores_std, alpha=0.1,\n",
    "                     color=\"r\")\n",
    "plt.fill_between(train_sizes, test_scores_mean - test_scores_std,\n",
    "                 test_scores_mean + test_scores_std, alpha=0.1, color=\"g\")\n",
    "plt.plot(train_sizes, train_scores_mean, 'o-', color=\"r\",\n",
    "         label=\"Training score\")\n",
    "plt.plot(train_sizes, test_scores_mean, 'o-', color=\"g\",\n",
    "         label=\"Cross-validation score\")\n",
    "\n",
    "plt.legend(loc=\"best\")"
   ]
  },
  {
   "cell_type": "code",
   "execution_count": null,
   "metadata": {
    "collapsed": true
   },
   "outputs": [],
   "source": []
  }
 ],
 "metadata": {
  "kernelspec": {
   "display_name": "Python 3",
   "language": "python",
   "name": "python3"
  },
  "language_info": {
   "codemirror_mode": {
    "name": "ipython",
    "version": 3
   },
   "file_extension": ".py",
   "mimetype": "text/x-python",
   "name": "python",
   "nbconvert_exporter": "python",
   "pygments_lexer": "ipython3",
   "version": "3.6.2"
  }
 },
 "nbformat": 4,
 "nbformat_minor": 2
}
